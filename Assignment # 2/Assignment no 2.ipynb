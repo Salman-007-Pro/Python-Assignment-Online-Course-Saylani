{
 "cells": [
  {
   "cell_type": "code",
   "execution_count": 16,
   "metadata": {},
   "outputs": [
    {
     "name": "stdout",
     "output_type": "stream",
     "text": [
      "Enter the mark of First subject: 80\n",
      "Enter the mark of Second subject: 80\n",
      "Enter the mark of Third subject: 68\n",
      "Enter the mark of Fourth subject: 78\n",
      "Enter the mark of Fifth subject: 90\n",
      "Total percentage is  79.2\n",
      "A grade\n"
     ]
    }
   ],
   "source": [
    "# 1. Write a program which takes 5 inputs from user for different subject’s\n",
    "# marks, total it and generate mark sheet using grades ?\n",
    "mark=[]\n",
    "mark.append(int(input(\"Enter the mark of First subject: \")))\n",
    "mark.append(int(input(\"Enter the mark of Second subject: \")))\n",
    "mark.append(int(input(\"Enter the mark of Third subject: \")))\n",
    "mark.append(int(input(\"Enter the mark of Fourth subject: \")))\n",
    "mark.append(int(input(\"Enter the mark of Fifth subject: \")))\n",
    "total=sum(mark)\n",
    "perc=(total/500)*100\n",
    "print(\"Total percentage is \",perc)\n",
    "if perc >=80:\n",
    "    print(\"A+ grade\")\n",
    "elif perc < 80 and perc>=70:\n",
    "    print(\"A grade\")\n",
    "elif perc < 70 and perc >=60:\n",
    "    print(\"B grade\")\n",
    "elif perc <60 and perc>=50:\n",
    "    print(\"C grade\")\n",
    "elif perc <50 and perc >=40:\n",
    "    print(\"D grade\")\n",
    "else:\n",
    "    print(\"Fail\")"
   ]
  },
  {
   "cell_type": "code",
   "execution_count": 18,
   "metadata": {},
   "outputs": [
    {
     "name": "stdout",
     "output_type": "stream",
     "text": [
      "Enter the number : 5\n",
      "The number(5) is odd\n"
     ]
    }
   ],
   "source": [
    "# 2. Write a program which take input from user and identify that the given\n",
    "# number is even or odd?\n",
    "number = int(input(\"Enter the number : \"))\n",
    "if number%2==0:\n",
    "    print(f\"The number({number}) is even\")\n",
    "else:\n",
    "    print(f\"The number({number}) is odd\")"
   ]
  },
  {
   "cell_type": "code",
   "execution_count": 19,
   "metadata": {},
   "outputs": [
    {
     "name": "stdout",
     "output_type": "stream",
     "text": [
      "The length of list is 10\n",
      "The list items:\n",
      "[0, 1, 2, 3, 4, 5, 6, 7, 8, 9]\n"
     ]
    }
   ],
   "source": [
    "# 3. Write a program which print the length of the list?\n",
    "lst=[i for i in range(10)]\n",
    "print(f\"The length of list is {len(lst)}\")\n",
    "print(\"The list items:\")\n",
    "print(lst)"
   ]
  },
  {
   "cell_type": "code",
   "execution_count": 20,
   "metadata": {},
   "outputs": [
    {
     "name": "stdout",
     "output_type": "stream",
     "text": [
      "The sum of List is 45\n",
      "The length of list is 10\n",
      "The list items:\n",
      "[0, 1, 2, 3, 4, 5, 6, 7, 8, 9]\n"
     ]
    }
   ],
   "source": [
    "# 4. Write a Python program to sum all the numeric items in a list?\n",
    "lst=[i for i in range(10)]\n",
    "print(f\"The sum of List is {sum(lst)}\")\n",
    "print(f\"The length of list is {len(lst)}\")\n",
    "print(\"The list items:\")\n",
    "print(lst)"
   ]
  },
  {
   "cell_type": "code",
   "execution_count": 22,
   "metadata": {},
   "outputs": [
    {
     "name": "stdout",
     "output_type": "stream",
     "text": [
      "The largest number is 5324\n"
     ]
    }
   ],
   "source": [
    "# 5. Write a Python program to get the largest number from a numeric list.\n",
    "lst=[213,5324,12,12,53,34,2,1,0]\n",
    "largest=lst[0]\n",
    "for i in lst:\n",
    "    if largest<i:\n",
    "        largest=i\n",
    "print(f\"The largest number is {largest}\")"
   ]
  },
  {
   "cell_type": "code",
   "execution_count": 23,
   "metadata": {},
   "outputs": [
    {
     "name": "stdout",
     "output_type": "stream",
     "text": [
      "1\n",
      "1\n",
      "2\n",
      "3\n"
     ]
    }
   ],
   "source": [
    "# 6. Take a list, say for example this one:\n",
    "# a = [1, 1, 2, 3, 5, 8, 13, 21, 34, 55, 89]\n",
    "# and write a program that prints out all the elements of the list that are\n",
    "# less than 5.\n",
    "lst = [1, 1, 2, 3, 5, 8, 13, 21, 34, 55, 89]\n",
    "for i in lst:\n",
    "    if i <5:\n",
    "        print(i)"
   ]
  },
  {
   "cell_type": "code",
   "execution_count": null,
   "metadata": {},
   "outputs": [],
   "source": []
  }
 ],
 "metadata": {
  "kernelspec": {
   "display_name": "Python 3",
   "language": "python",
   "name": "python3"
  },
  "language_info": {
   "codemirror_mode": {
    "name": "ipython",
    "version": 3
   },
   "file_extension": ".py",
   "mimetype": "text/x-python",
   "name": "python",
   "nbconvert_exporter": "python",
   "pygments_lexer": "ipython3",
   "version": "3.7.4"
  }
 },
 "nbformat": 4,
 "nbformat_minor": 2
}
