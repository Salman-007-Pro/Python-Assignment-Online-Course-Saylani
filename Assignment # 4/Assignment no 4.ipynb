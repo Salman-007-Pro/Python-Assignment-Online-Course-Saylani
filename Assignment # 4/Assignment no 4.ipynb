{
 "cells": [
  {
   "cell_type": "code",
   "execution_count": 19,
   "metadata": {},
   "outputs": [
    {
     "name": "stdout",
     "output_type": "stream",
     "text": [
      "first_name  :  Muhammad Salman Asif\n",
      "last_name  :  Muhammad Asif\n",
      "age  :  22\n",
      "city  :  Karachi\n",
      "\n",
      "\n",
      "\n",
      "first_name  :  Muhammad Salman Asif\n",
      "last_name  :  Muhammad Asif\n",
      "age  :  22\n",
      "city  :  Karachi\n",
      "qualification  :  f.s.c\n",
      "\n",
      "\n",
      "\n",
      "first_name  :  Muhammad Salman Asif\n",
      "last_name  :  Muhammad Asif\n",
      "age  :  22\n",
      "city  :  Karachi\n",
      "qualification  :  B.S Software Engineer\n",
      "\n",
      "\n",
      "\n",
      "first_name  :  Muhammad Salman Asif\n",
      "last_name  :  Muhammad Asif\n",
      "age  :  22\n",
      "city  :  Karachi\n",
      "\n",
      "\n",
      "\n"
     ]
    }
   ],
   "source": [
    "# Question1:\n",
    "# Use a dictionary to store information about a person you know. Store their first name, last name, age,\n",
    "# and the city in which they live. You should have keys such as first_name, last_name, age, and city. Print\n",
    "# each piece of information stored in your dictionary. Add a new key value pair about qualification then\n",
    "# update the qualification value to high academic level then delete it.\n",
    "def print_dict(dict):\n",
    "    for (a,b) in dict.items():\n",
    "        print(a,\" : \",b)\n",
    "    print(\"\\n\\n\")\n",
    "person={\n",
    "    \"first_name\":\"Muhammad Salman Asif\",\n",
    "    \"last_name\":\"Muhammad Asif\",\n",
    "    \"age\":22,\n",
    "    \"city\":\"Karachi\"\n",
    "}\n",
    "print_dict(person)\n",
    "person[\"qualification\"]=\"f.s.c\"\n",
    "print_dict(person)\n",
    "person[\"qualification\"]=\"B.S Software Engineer\"\n",
    "print_dict(person)\n",
    "person.pop(\"qualification\")\n",
    "print_dict(person)"
   ]
  },
  {
   "cell_type": "code",
   "execution_count": 34,
   "metadata": {},
   "outputs": [
    {
     "name": "stdout",
     "output_type": "stream",
     "text": [
      "karachi {\n",
      "  country  :  Pakistan\n",
      "  population  :  15741000\n",
      "  fact  :  Karachi is the largest city of Pakistan and the world’s second most populous town.\n",
      "}\n",
      "\n",
      "california {\n",
      "  country  :  America\n",
      "  population  :  37253956\n",
      "  fact  :  California is known variously as The Land of Milk and Honey, The El Dorado State, The Golden State, and The Grape State.\n",
      "}\n",
      "\n",
      "Melbourne {\n",
      "  country  :  Australia\n",
      "  population  :  4800000\n",
      "  fact  :  Melbourne was the capital city of Australia for 26 years between 1901 and 1927 before the capital shifted to Canberra.\n",
      "}\n",
      "\n"
     ]
    }
   ],
   "source": [
    "# Question2:\n",
    "# Make a dictionary called cities. Use the names of three cities as keys in your dictionary. Create a\n",
    "# dictionary of information about each city and include the country that the city is in, its approximate\n",
    "# population, and one fact about that city. The keys for each city’s dictionary should be something like\n",
    "# country, population, and fact. Print the name of each city and all of the information you have stored\n",
    "# about it.\n",
    "cities={\n",
    "    \"karachi\":{\n",
    "        \"country\":\"Pakistan\",\n",
    "        \"population\":15_741_000,\n",
    "        \"fact\":\"Karachi is the largest city of Pakistan and the world’s second most populous town.\"\n",
    "    },\n",
    "    \"california\":{\n",
    "        \"country\":\"America\",\n",
    "        \"population\": 37_253_956,\n",
    "        \"fact\":\"California is known variously as The Land of Milk and Honey, The El Dorado State, The Golden State, and The Grape State.\"\n",
    "    },\n",
    "    \"Melbourne\":{\n",
    "        \"country\":\"Australia\",\n",
    "        \"population\":4_800_000,\n",
    "        \"fact\":\"Melbourne was the capital city of Australia for 26 years between 1901 and 1927 before the capital shifted to Canberra.\"\n",
    "    }\n",
    "}\n",
    "for (city,information) in cities.items():\n",
    "    print(city,\"{\")\n",
    "    for (name,info) in information.items():\n",
    "        print(\" \",name,\" : \",info)\n",
    "    print(\"}\\n\")"
   ]
  },
  {
   "cell_type": "code",
   "execution_count": 60,
   "metadata": {},
   "outputs": [
    {
     "name": "stdout",
     "output_type": "stream",
     "text": [
      "Enter quit to end the program\n",
      "Ticket price according to your age\n",
      "enter the age: 56\n",
      "The ticket price is $15\n",
      "\n",
      "enter the age: 58\n",
      "The ticket price is $15\n",
      "\n",
      "enter the age: 48\n",
      "The ticket price is $15\n",
      "\n",
      "enter the age: 78\n",
      "The ticket price is $15\n",
      "\n",
      "enter the age: 2\n",
      "The ticket is free\n",
      "\n",
      "enter the age: 3\n",
      "The ticket price is $10\n",
      "\n",
      "enter the age: quit\n"
     ]
    }
   ],
   "source": [
    "# Question3:\n",
    "# A movie theater charges different ticket prices depending on a person’s age. If a person is under the age\n",
    "# of 3, the ticket is free; if they are between 3 and 12, the ticket is $10; and if they are over age 12, the\n",
    "# ticket is $15. Write a loop in which you ask users their age, and then tell them the cost of their movie\n",
    "# ticket.\n",
    "print(\"Enter quit to end the program\")\n",
    "print(\"Ticket price according to your age\")\n",
    "while True:\n",
    "    age=input(\"enter the age: \")\n",
    "    if age==\"quit\":\n",
    "        break\n",
    "    age=int(age)\n",
    "    if age < 3:\n",
    "        print(\"The ticket is free\\n\")\n",
    "    elif age>=3 and age<=12:\n",
    "        print(\"The ticket price is $10\\n\")\n",
    "    else:\n",
    "        print(\"The ticket price is $15\\n\")"
   ]
  },
  {
   "cell_type": "code",
   "execution_count": 36,
   "metadata": {},
   "outputs": [
    {
     "name": "stdout",
     "output_type": "stream",
     "text": [
      "My favorite books: Quran\n"
     ]
    }
   ],
   "source": [
    "# Question4:\n",
    "# Write a function called favorite_book() that accepts one parameter, title. The function should print a\n",
    "# message, such as One of my favorite books is Alice in Wonderland. Call the function, making sure to\n",
    "# include a book title as an argument in the function call.\n",
    "def favorite_book(title):\n",
    "    print(f\"My favorite books: {title}\")\n",
    "favorite_book(\"Quran\")"
   ]
  },
  {
   "cell_type": "code",
   "execution_count": 57,
   "metadata": {},
   "outputs": [
    {
     "name": "stdout",
     "output_type": "stream",
     "text": [
      "Guess the number between 1 to 30\n",
      "Enter the number: 8\n",
      "your number is smaller\n",
      "\n",
      "Guess the number between 1 to 30\n",
      "Enter the number: 20\n",
      "your number is smaller\n",
      "\n",
      "Guess the number between 1 to 30\n",
      "Enter the number: 29\n",
      "your number is correct\n",
      "you win the game\n"
     ]
    }
   ],
   "source": [
    "# Question5:\n",
    "# Guess the number game\n",
    "# Write a program which randomly generate a number between 1 to 30 and ask the user in input field to\n",
    "# guess the correct number. Give three chances to user guess the number and also give hint to user if\n",
    "# hidden number is greater or smaller than the number he given to input field.\n",
    "from random import randint\n",
    "Chance=3\n",
    "while Chance>0:\n",
    "    guess= randint(1, 30)\n",
    "    print(\"Guess the number between 1 to 30\")\n",
    "    user=int(input(\"Enter the number: \"))\n",
    "    if user > guess:\n",
    "        print(\"your number is greater\\n\")\n",
    "        Chance-=1\n",
    "    elif user <guess:\n",
    "        print(\"your number is smaller\\n\")\n",
    "        Chance-=1\n",
    "    else:\n",
    "        print(\"your number is correct\")\n",
    "        print(\"you win the game\")\n",
    "        break\n",
    "if Chance==0:\n",
    "    print(\"You lose the game\")"
   ]
  }
 ],
 "metadata": {
  "kernelspec": {
   "display_name": "Python 3",
   "language": "python",
   "name": "python3"
  },
  "language_info": {
   "codemirror_mode": {
    "name": "ipython",
    "version": 3
   },
   "file_extension": ".py",
   "mimetype": "text/x-python",
   "name": "python",
   "nbconvert_exporter": "python",
   "pygments_lexer": "ipython3",
   "version": "3.7.4"
  }
 },
 "nbformat": 4,
 "nbformat_minor": 2
}
