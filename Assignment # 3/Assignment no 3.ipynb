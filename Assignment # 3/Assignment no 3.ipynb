{
 "cells": [
  {
   "cell_type": "code",
   "execution_count": 1,
   "metadata": {},
   "outputs": [
    {
     "name": "stdout",
     "output_type": "stream",
     "text": [
      "1: Addition\n",
      "2: Subtraction\n",
      "3: Multiplication\n",
      "4: Division\n",
      "5: Power\n",
      "6: exit\n",
      "Choose the number(1-6): 1\n",
      "Enter the first number: 5\n",
      "Enter the second number: 5\n",
      "The Additon of two value(a+b): 10\n",
      "\n",
      "<---End--->\n",
      "\n",
      "1: Addition\n",
      "2: Subtraction\n",
      "3: Multiplication\n",
      "4: Division\n",
      "5: Power\n",
      "6: exit\n",
      "Choose the number(1-6): 2\n",
      "Enter the first number: 2\n",
      "Enter the second number: 2\n",
      "The Additon of two value(a-b): 0\n",
      "\n",
      "<---End--->\n",
      "\n",
      "1: Addition\n",
      "2: Subtraction\n",
      "3: Multiplication\n",
      "4: Division\n",
      "5: Power\n",
      "6: exit\n",
      "Choose the number(1-6): 3\n",
      "Enter the first number: 2\n",
      "Enter the second number: 2\n",
      "The Additon of two value(a*b): 4\n",
      "\n",
      "<---End--->\n",
      "\n",
      "1: Addition\n",
      "2: Subtraction\n",
      "3: Multiplication\n",
      "4: Division\n",
      "5: Power\n",
      "6: exit\n",
      "Choose the number(1-6): 4\n",
      "Enter the first number: 2\n",
      "Enter the second number: 2\n",
      "The Additon of two value(a/b): 1.0\n",
      "\n",
      "<---End--->\n",
      "\n",
      "1: Addition\n",
      "2: Subtraction\n",
      "3: Multiplication\n",
      "4: Division\n",
      "5: Power\n",
      "6: exit\n",
      "Choose the number(1-6): 5\n",
      "Enter the first number: 2\n",
      "Enter the second number: 2\n",
      "The Additon of two value(a^b): 4\n",
      "\n",
      "<---End--->\n",
      "\n",
      "1: Addition\n",
      "2: Subtraction\n",
      "3: Multiplication\n",
      "4: Division\n",
      "5: Power\n",
      "6: exit\n",
      "Choose the number(1-6): 6\n",
      "\n",
      "<---End--->\n"
     ]
    }
   ],
   "source": [
    "# 1. Make a calculator using Python with addition , subtraction , multiplication ,\n",
    "# division and power.\n",
    "def input_value():\n",
    "    number1=int(input(\"Enter the first number: \"))\n",
    "    number2=int(input(\"Enter the second number: \"))\n",
    "    return number1,number2\n",
    "while True:\n",
    "    print(\"1: Addition\")\n",
    "    print(\"2: Subtraction\")\n",
    "    print(\"3: Multiplication\")\n",
    "    print(\"4: Division\")\n",
    "    print(\"5: Power\")\n",
    "    print(\"6: exit\")\n",
    "    sel=int(input(\"Choose the number(1-6): \"))\n",
    "    if sel==1:\n",
    "        number1,number2=input_value()\n",
    "        print(f\"The Additon of two value(a+b): {number1+number2}\")\n",
    "    elif sel==2:\n",
    "        number1,number2=input_value()\n",
    "        print(f\"The Additon of two value(a-b): {number1-number2}\")\n",
    "    elif sel==3:\n",
    "        number1,number2=input_value()\n",
    "        print(f\"The Additon of two value(a*b): {number1*number2}\")\n",
    "    elif sel==4:\n",
    "        number1,number2=input_value()\n",
    "        print(f\"The Additon of two value(a/b): {number1/number2}\")\n",
    "    elif sel==5:\n",
    "        number1,number2=input_value()\n",
    "        print(f\"The Additon of two value(a^b): {number1**number2}\")\n",
    "    elif sel==6:\n",
    "        print(\"\\n<---End--->\")\n",
    "        break\n",
    "    else:\n",
    "        print(\"You enter the wrong value\")\n",
    "    print(\"\\n<---End--->\\n\")\n",
    "        "
   ]
  },
  {
   "cell_type": "code",
   "execution_count": 10,
   "metadata": {},
   "outputs": [
    {
     "name": "stdout",
     "output_type": "stream",
     "text": [
      "the number: 2\n",
      "the number: 5\n",
      "the number: 89\n",
      "the number: 132\n",
      "the number: 2\n",
      "the number: 0.212\n"
     ]
    }
   ],
   "source": [
    "# 2. Write a program to check if there is any numeric value in list using for loop\n",
    "lst=[\"Muhammad Salman Asif\",\"Minhaj Khan\",\"Muhammad Saad\",2,5,89,132,2,0.212,\"Yasir Hussain\"]\n",
    "for a in lst:\n",
    "    if type(a) is int or type(a) is float:\n",
    "        print(f\"the number: {a}\")"
   ]
  },
  {
   "cell_type": "code",
   "execution_count": 14,
   "metadata": {},
   "outputs": [
    {
     "name": "stdout",
     "output_type": "stream",
     "text": [
      "{'Car-Name': 'Ferrari', 'Model': '2019'}\n",
      "{'Car-Name': 'Ferrari', 'Model': '2019', 'Price': 10000000}\n"
     ]
    }
   ],
   "source": [
    "# 3. Write a Python script to add a key to a dictionary\n",
    "dic={\n",
    "    \"Car-Name\":\"Ferrari\",\n",
    "    \"Model\":\"2019\"\n",
    "}\n",
    "print(dic)\n",
    "dic[\"Price\"]=10_000_000\n",
    "print(dic)\n"
   ]
  },
  {
   "cell_type": "code",
   "execution_count": 20,
   "metadata": {},
   "outputs": [
    {
     "name": "stdout",
     "output_type": "stream",
     "text": [
      "{'0': 0, '1': 1, '2': 2, '3': 3, '4': 4, '5': 5, '6': 6, '7': 7, '8': 8, '9': 9}\n",
      "45\n"
     ]
    }
   ],
   "source": [
    "# 4. Write a Python program to sum all the numeric items in a dictionary\n",
    "dic={str(i):i for i in range(10)}\n",
    "print(dic)\n",
    "s=0\n",
    "for i in dic.values():\n",
    "    if type(i) is int or type(i) is float:\n",
    "        s+=i\n",
    "print(s)"
   ]
  },
  {
   "cell_type": "code",
   "execution_count": 25,
   "metadata": {},
   "outputs": [
    {
     "name": "stdout",
     "output_type": "stream",
     "text": [
      "The duplicate value is: \n",
      "value : Number of duplicate\n",
      "\n",
      "Muhammad Salman Asif : 1\n"
     ]
    }
   ],
   "source": [
    "# 5. Write a program to identify duplicate values from list\n",
    "lst=[\"Muhammad Salman Asif\",\"Muhammad Minhaj Khan\",\"Muhammad Salman Asif\"]\n",
    "dic={}\n",
    "for i in range(len(lst)):\n",
    "    k=0\n",
    "    for j in range(len(lst)):\n",
    "        if i==j:\n",
    "            continue\n",
    "        else:\n",
    "#             print(\"a\")\n",
    "            if lst[i]==lst[j]:\n",
    "                k+=1\n",
    "                dic[lst[i]]=k\n",
    "print(\"The duplicate value is: \")\n",
    "print(\"value : Number of duplicate\\n\")\n",
    "for i,j in dic.items():\n",
    "    print(i,\":\",j)\n"
   ]
  },
  {
   "cell_type": "code",
   "execution_count": 29,
   "metadata": {},
   "outputs": [
    {
     "name": "stdout",
     "output_type": "stream",
     "text": [
      "enter the key: F_name\n",
      "The key is already is exist\n"
     ]
    }
   ],
   "source": [
    "# 6. Write a Python script to check if a given key already exists in a dictionary\n",
    "key=input(\"enter the key: \")\n",
    "dic={\n",
    "    \"Name\":\"Muhammad Salman Asif\",\n",
    "    \"F_name\":\"Muhammad Asif Zafar\"\n",
    "}\n",
    "flag=False\n",
    "for i in dic.keys():\n",
    "    if i==j:\n",
    "        flag=True\n",
    "if flag:\n",
    "    value=input(\"enter the value: \")\n",
    "    dic[key]=value\n",
    "    for i,j in dic.items():\n",
    "        print(i,\":\",j)\n",
    "else:\n",
    "    print(\"The key is already is exist\")\n",
    "    "
   ]
  }
 ],
 "metadata": {
  "kernelspec": {
   "display_name": "Python 3",
   "language": "python",
   "name": "python3"
  },
  "language_info": {
   "codemirror_mode": {
    "name": "ipython",
    "version": 3
   },
   "file_extension": ".py",
   "mimetype": "text/x-python",
   "name": "python",
   "nbconvert_exporter": "python",
   "pygments_lexer": "ipython3",
   "version": "3.7.4"
  }
 },
 "nbformat": 4,
 "nbformat_minor": 2
}
