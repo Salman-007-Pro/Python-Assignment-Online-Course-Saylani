{
 "cells": [
  {
   "cell_type": "code",
   "execution_count": 1,
   "metadata": {},
   "outputs": [],
   "source": [
    "# Question 1:\n",
    "# Define Object Oriented Programming Language?\n",
    "# Object-oriented programming (OOP) is a programming language model\n",
    "# in which programs are organized around data, or objects,\n",
    "# rather than functions and logic.Its is useful for save memory allocate and also for code reusability\n",
    "# for example create class of car define functionality as we want the car and class car is an object"
   ]
  },
  {
   "cell_type": "code",
   "execution_count": 2,
   "metadata": {},
   "outputs": [],
   "source": [
    "# Question 2:\n",
    "# List down the Benefits of OOP?\n",
    "# Modularity for easier troubleshooting. Something has gone wrong, and you have no idea where to look. ...\n",
    "# Reuse of code through inheritance\n",
    "# Flexibility through polymorphism and interface.\n",
    "# Effective problem solving."
   ]
  },
  {
   "cell_type": "code",
   "execution_count": 3,
   "metadata": {},
   "outputs": [],
   "source": [
    "# Question 3:\n",
    "# Differentiate between function and method?\n",
    "# There is a very small different between otherwise the functionality both the functions and methods are same.\n",
    "\n",
    "# Functions:\n",
    "# A function is a piece of code that is called by name. It can be passed data to operate on (i.e. the parameters of arguments)\n",
    "# and can optionally return data (the return value).\n",
    "\n",
    "# Methods:\n",
    "# A method is a piece of code that is called by a name that is associated with an object.\n"
   ]
  },
  {
   "cell_type": "code",
   "execution_count": 4,
   "metadata": {},
   "outputs": [],
   "source": [
    "# Question 4:\n",
    "# Define the following terms:\n",
    "# 1. Class\n",
    "# 2. Object\n",
    "# 3. Attribute\n",
    "# 4. Behavior\n",
    "\n",
    "# Class:\n",
    "#   a class is a blueprint for creating objects (a particular data structure), \n",
    "#   providing initial values for state (member variables or attributes), and implementations of behavior.\n",
    "\n",
    "# Object:\n",
    "#   An object is a component of a program that knows how to perform certain actions and \n",
    "#   how to interact with other elements of the program. Objects are the basic units of object-oriented programming.\n",
    "\n",
    "# Attribute:\n",
    "#   Attributes are data stored inside a class or instance and represent the state or quality of the class or instance.\n",
    "#   In short, attributes store information about the instance.\n",
    "\n",
    "# Behaviour:\n",
    "#   The behavior of an object is defined by its methods, which are the functions and subroutines defined within the object class.\n",
    "#   Without class methods, a class would simply be a structure."
   ]
  },
  {
   "cell_type": "code",
   "execution_count": 12,
   "metadata": {},
   "outputs": [
    {
     "name": "stdout",
     "output_type": "stream",
     "text": [
      "z200\n",
      "red\n",
      "2018\n",
      "sport\n",
      "Ferrari\n",
      "Modified: Blue\n",
      "Modified: 2020\n",
      "Modified: Racer\n",
      "Modified: BMW\n"
     ]
    }
   ],
   "source": [
    "# Question 5:\n",
    "# Write a code in python in which create a class named it Car which\n",
    "# have 5 attributes such like (model, color and name etc.) and 3\n",
    "# methods. And create 5 object instance from that class.\n",
    "class Car:\n",
    "    def __init__(other,name,color,model,Type,company):\n",
    "        other.model=model\n",
    "        other.color=color\n",
    "        other.name=name\n",
    "        other.Type=Type\n",
    "        other.company=company\n",
    "        \n",
    "    def changeColor(other,color):\n",
    "        other.color=color\n",
    "        \n",
    "    def changeModel(other,model):\n",
    "        other.model=model\n",
    "        \n",
    "    def changeType(other,Type):\n",
    "        other.Type=Type\n",
    "        \n",
    "    def changeCompany(other,company):\n",
    "        other.company=company\n",
    "        \n",
    "salman=Car(\"z200\",\"red\",2018,\"sport\",\"Ferrari\")\n",
    "print(salman.name)\n",
    "print(salman.color)\n",
    "print(salman.model)\n",
    "print(salman.Type)\n",
    "print(salman.company)\n",
    "salman.changeColor(\"Blue\")\n",
    "print(\"Modified:\",salman.color)\n",
    "salman.changeModel(2020)\n",
    "print(\"Modified:\",salman.model)\n",
    "salman.changeType(\"Racer\")\n",
    "print(\"Modified:\",salman.Type)\n",
    "salman.changeCompany(\"BMW\")\n",
    "print(\"Modified:\",salman.company)"
   ]
  }
 ],
 "metadata": {
  "kernelspec": {
   "display_name": "Python 3",
   "language": "python",
   "name": "python3"
  },
  "language_info": {
   "codemirror_mode": {
    "name": "ipython",
    "version": 3
   },
   "file_extension": ".py",
   "mimetype": "text/x-python",
   "name": "python",
   "nbconvert_exporter": "python",
   "pygments_lexer": "ipython3",
   "version": "3.7.4"
  }
 },
 "nbformat": 4,
 "nbformat_minor": 2
}
