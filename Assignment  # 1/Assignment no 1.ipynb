{
 "cells": [
  {
   "cell_type": "code",
   "execution_count": 7,
   "metadata": {},
   "outputs": [
    {
     "name": "stdout",
     "output_type": "stream",
     "text": [
      "Twinkle, twinkle, little star,\n",
      " \tHow I wonder what you are!\n",
      " \t\tUp above the world so high,\n",
      " \t\tLike a diamond in the sky.\n",
      " Twinkle, twinkle, little star,\n",
      " \tHow I wonder what you are\n"
     ]
    }
   ],
   "source": [
    "\"\"\"\n",
    "1. Write a Python program to print the following string in a specific format\n",
    "(see the output).\n",
    "\n",
    "Twinkle, twinkle, little star,\n",
    "      How I wonder what you are!\n",
    "            Up above the world so high,\n",
    "            Like a diamond in the sky.\n",
    "Twinkle, twinkle, little star,\n",
    "      How I wonder what you are\n",
    "        \n",
    "\"\"\"\n",
    "print(\n",
    "\"Twinkle, twinkle, little star,\\n\",\n",
    "\"\\tHow I wonder what you are!\\n\",\n",
    "\"\\t\\tUp above the world so high,\\n\",\n",
    "\"\\t\\tLike a diamond in the sky.\\n\",\n",
    "\"Twinkle, twinkle, little star,\\n\",\n",
    "\"\\tHow I wonder what you are\"\n",
    ")\n"
   ]
  },
  {
   "cell_type": "code",
   "execution_count": 8,
   "metadata": {},
   "outputs": [
    {
     "name": "stdout",
     "output_type": "stream",
     "text": [
      "3.7.4 (default, Aug  9 2019, 18:34:13) [MSC v.1915 64 bit (AMD64)]\n"
     ]
    }
   ],
   "source": [
    "# 2. Write a Python program to get the Python version you are using\n",
    "import sys\n",
    "print(sys.version)"
   ]
  },
  {
   "cell_type": "code",
   "execution_count": 12,
   "metadata": {},
   "outputs": [
    {
     "name": "stdout",
     "output_type": "stream",
     "text": [
      "Today's date: 2019-11-04\n",
      "Current Time = 00:33:40\n"
     ]
    }
   ],
   "source": [
    "# 3. Write a Python program to display the current date and time.\n",
    "from datetime import date\n",
    "from datetime import datetime\n",
    "today = date.today()\n",
    "now = datetime.now()\n",
    "current_time = now.strftime(\"%H:%M:%S\")\n",
    "print(\"Today's date:\", today)\n",
    "print(\"Current Time =\", current_time)"
   ]
  },
  {
   "cell_type": "code",
   "execution_count": 18,
   "metadata": {},
   "outputs": [
    {
     "name": "stdout",
     "output_type": "stream",
     "text": [
      "enter the radiud: 2\n",
      "12.57\n"
     ]
    }
   ],
   "source": [
    "# 4. Write a Python program which accepts the radius of a circle from the user\n",
    "# and compute the area.\n",
    "import math\n",
    "radius=float(input(\"enter the radiud: \"))\n",
    "area_of_cirlce=math.pi*radius**2\n",
    "print(\"%.2f\" %area_of_cirlce)"
   ]
  },
  {
   "cell_type": "code",
   "execution_count": 20,
   "metadata": {},
   "outputs": [
    {
     "name": "stdout",
     "output_type": "stream",
     "text": [
      "Enter the first name: Salman\n",
      "Enter the last name: Asif\n",
      "Assalamualaikum Asif Salman\n"
     ]
    }
   ],
   "source": [
    "# 5. Write a Python program which accepts the user's first and last name and\n",
    "# print them in reverse order with a space between them.\n",
    "\n",
    "first_name=input(\"Enter the first name: \")\n",
    "last_name=input(\"Enter the last name: \")\n",
    "print(\"Assalamualaikum \"+last_name+\" \"+first_name)"
   ]
  },
  {
   "cell_type": "code",
   "execution_count": 22,
   "metadata": {},
   "outputs": [
    {
     "name": "stdout",
     "output_type": "stream",
     "text": [
      "enter the number a: 5\n",
      "enter the number b: 4\n",
      "9\n"
     ]
    }
   ],
   "source": [
    "# 6. Write a python program which takes two inputs from user and print them\n",
    "# addition\n",
    "\n",
    "a=int(input(\"enter the number a: \"))\n",
    "b=int(input(\"enter the number b: \"))\n",
    "print(\"%d\"%(a+b))\n"
   ]
  },
  {
   "cell_type": "code",
   "execution_count": null,
   "metadata": {},
   "outputs": [],
   "source": []
  }
 ],
 "metadata": {
  "kernelspec": {
   "display_name": "Python 3",
   "language": "python",
   "name": "python3"
  },
  "language_info": {
   "codemirror_mode": {
    "name": "ipython",
    "version": 3
   },
   "file_extension": ".py",
   "mimetype": "text/x-python",
   "name": "python",
   "nbconvert_exporter": "python",
   "pygments_lexer": "ipython3",
   "version": "3.7.4"
  }
 },
 "nbformat": 4,
 "nbformat_minor": 2
}
